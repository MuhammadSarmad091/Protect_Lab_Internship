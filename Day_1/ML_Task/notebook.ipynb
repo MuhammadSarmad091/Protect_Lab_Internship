{
 "cells": [
  {
   "cell_type": "code",
   "execution_count": 1,
   "id": "d555eb89",
   "metadata": {},
   "outputs": [],
   "source": [
    "import pandas as pd\n",
    "import numpy as np\n",
    "import matplotlib.pyplot as plt\n",
    "from sklearn.metrics import accuracy_score\n",
    "from sklearn.model_selection import train_test_split\n",
    "from sklearn.ensemble import RandomForestClassifier\n"
   ]
  },
  {
   "cell_type": "code",
   "execution_count": 18,
   "id": "778a1e3c",
   "metadata": {},
   "outputs": [],
   "source": [
    "df = pd.read_csv(\"comfort_data.csv\")"
   ]
  },
  {
   "cell_type": "code",
   "execution_count": null,
   "id": "e8908ba3",
   "metadata": {},
   "outputs": [
    {
     "name": "stdout",
     "output_type": "stream",
     "text": [
      "Fan  Unique Values: \n",
      "Fan\n",
      "off    74\n",
      "on     26\n",
      "Name: count, dtype: int64\n",
      "AC  Unique Values: \n",
      "AC\n",
      "off    61\n",
      "on     39\n",
      "Name: count, dtype: int64\n",
      "Lights  Unique Values: \n",
      "Lights\n",
      "on     54\n",
      "off    46\n",
      "Name: count, dtype: int64\n",
      "Blinds  Unique Values: \n",
      "Blinds\n",
      "off    54\n",
      "on     46\n",
      "Name: count, dtype: int64\n",
      "Comfort_Level  Unique Values: \n",
      "Comfort_Level\n",
      "Uncomfortable    71\n",
      "Comfortable      29\n",
      "Name: count, dtype: int64\n"
     ]
    }
   ],
   "source": [
    "# EDA\n",
    "df.head()\n",
    "df.isnull().sum()\n",
    "object_columns = df.select_dtypes(['object']).columns.to_list()\n",
    "df[object_columns] = df[object_columns].astype('category')\n",
    "\n",
    "for col in object_columns:\n",
    "    print(df[col].value_counts())"
   ]
  },
  {
   "cell_type": "code",
   "execution_count": null,
   "id": "0fcf4991",
   "metadata": {},
   "outputs": [],
   "source": []
  }
 ],
 "metadata": {
  "kernelspec": {
   "display_name": "Python 3",
   "language": "python",
   "name": "python3"
  },
  "language_info": {
   "codemirror_mode": {
    "name": "ipython",
    "version": 3
   },
   "file_extension": ".py",
   "mimetype": "text/x-python",
   "name": "python",
   "nbconvert_exporter": "python",
   "pygments_lexer": "ipython3",
   "version": "3.11.0"
  }
 },
 "nbformat": 4,
 "nbformat_minor": 5
}
